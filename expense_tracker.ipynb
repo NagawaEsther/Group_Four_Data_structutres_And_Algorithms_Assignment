{
 "cells": [
  {
   "cell_type": "markdown",
   "metadata": {},
   "source": [
    "# GROUP 4\n",
    "\n",
    "DATA STRUCTURES AND ALGORITHMS \n",
    "CSD221"
   ]
  },
  {
   "cell_type": "markdown",
   "metadata": {},
   "source": [
    "\n",
    "1. NAGAWA ESTHER\t            2023/DCSE/0049/SS\n",
    "2. NAKAGGA SHANITAH\t            2023/DCSE/0055/SS\n",
    "3. KWAGALA JOANNA VICTOR\t    2023/DCSE/0032/SS\n",
    "4. WANJIKU HANANNY\t            2023/DCSE/0107/SS\n",
    "5. NANTEZA ANGELLA              2023/DCSE/0106/SS\n",
    "6. AMUTUHAIRE FAITH AHABWE      2023/DCSE/0011/SS\n",
    "\n",
    "\n"
   ]
  },
  {
   "cell_type": "code",
   "execution_count": 1,
   "metadata": {},
   "outputs": [
    {
     "name": "stdout",
     "output_type": "stream",
     "text": [
      "Total spending in october 2023:205\n",
      "Food-related expenses:\n",
      "on 2023-10-01,spent 50\n",
      "on 2023-10-06,spent 35\n",
      "on 2023-11-01,spent 75\n"
     ]
    }
   ],
   "source": [
    "from collections import defaultdict\n",
    "\n",
    "#Represents each expense entry\n",
    "class Expense:\n",
    "    def __init__(self,date,amount,category):\n",
    "        self.date=date\n",
    "        self.amount=amount\n",
    "        self.category=category\n",
    "        self.next=None\n",
    "        \n",
    "#Manages the linked list of expenses \n",
    "class ExpenseManager:\n",
    "    def __init__(self):\n",
    "        self.head=None\n",
    "        \n",
    "    def add_expense(self,date,amount,category):\n",
    "        new_expense =Expense(date,amount,category)\n",
    "        new_expense.next=self.head\n",
    "        self.head=new_expense\n",
    "        \n",
    "#Tracks and categorizes expense\n",
    "class ExpenseTracker:\n",
    "    def __init__(self):\n",
    "        self.manager=ExpenseManager()\n",
    "        self.category_expenses=defaultdict(list)\n",
    "    \n",
    "    def add_expense(self,date,amount,category):\n",
    "        self.manager.add_expense(date,amount,category)\n",
    "        self.category_expenses[category].append((date,amount))\n",
    "    \n",
    "    def get_total_spending_for_month(self,month):\n",
    "        current_expense =self.manager.head\n",
    "        total_spent=0\n",
    "        while current_expense:\n",
    "            if current_expense.date.startswith(month):\n",
    "                total_spent += current_expense.amount\n",
    "            current_expense = current_expense.next\n",
    "        return total_spent\n",
    "    \n",
    "    def get_expenses_by_category(self,category):\n",
    "        return self.category_expenses.get(category,[])\n",
    "    \n",
    "#Example usage of Expense Tracker\n",
    "tracker = ExpenseTracker()\n",
    "    \n",
    "#Adding sample expenses\n",
    "tracker.add_expense(\"2023-10-01\",50,\"Food\")\n",
    "tracker.add_expense(\"2023-10-02\",20,\"Transport\")\n",
    "tracker.add_expense(\"2023-10-05\",100,\"Utilities\")\n",
    "tracker.add_expense(\"2023-10-06\",35,\"Food\")\n",
    "tracker.add_expense(\"2023-11-01\",75,\"Food\")\n",
    "    \n",
    "    \n",
    "#Check total spending for october 2023\n",
    "october_total =tracker.get_total_spending_for_month(\"2023-10\")\n",
    "print(f\"Total spending in october 2023:{october_total}\")\n",
    "    \n",
    "#View food-related expenses\n",
    "food_expenses =tracker.get_expenses_by_category(\"Food\")\n",
    "print(\"Food-related expenses:\")\n",
    "for expense in food_expenses:\n",
    "    print(f\"on {expense[0]},spent {expense[1]}\")\n",
    "    \n",
    "    "
   ]
  }
 ],
 "metadata": {
  "kernelspec": {
   "display_name": "Python 3",
   "language": "python",
   "name": "python3"
  },
  "language_info": {
   "codemirror_mode": {
    "name": "ipython",
    "version": 3
   },
   "file_extension": ".py",
   "mimetype": "text/x-python",
   "name": "python",
   "nbconvert_exporter": "python",
   "pygments_lexer": "ipython3",
   "version": "3.12.2"
  }
 },
 "nbformat": 4,
 "nbformat_minor": 2
}
